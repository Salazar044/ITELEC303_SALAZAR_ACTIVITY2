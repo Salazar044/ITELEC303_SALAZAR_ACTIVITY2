{
 "cells": [
  {
   "cell_type": "markdown",
   "id": "f0e9d7b4-fd6c-4cfc-af6c-83ef23e444a9",
   "metadata": {},
   "source": [
    "<h1> ACTIVITY 2 - ACCIDENTS DATA ANALYTICS PROJECT</h1>\n",
    "<hr>"
   ]
  },
  {
   "cell_type": "markdown",
   "id": "a53ceaab-15b8-47f8-82ca-2822719267be",
   "metadata": {},
   "source": [
    "<h3>ANALYST: Mark Angelo Salazar</h3>\n",
    "<hr>"
   ]
  },
  {
   "cell_type": "code",
   "execution_count": 64,
   "id": "16818425-b922-4ec0-a774-571fb0e23600",
   "metadata": {},
   "outputs": [],
   "source": [
    "import numpy as np\n",
    "import pandas as pd\n",
    "import warnings\n",
    "warnings.filterwarnings ('ignore')"
   ]
  },
  {
   "cell_type": "code",
   "execution_count": 2,
   "id": "2a23c1db-0b72-4864-b933-f31c474a7684",
   "metadata": {},
   "outputs": [],
   "source": [
    "accident = pd.read_csv('datasets\\\\accident_data.csv')"
   ]
  },
  {
   "cell_type": "code",
   "execution_count": 3,
   "id": "094e25fa-6454-4760-924c-d56552164415",
   "metadata": {},
   "outputs": [
    {
     "data": {
      "text/html": [
       "<div>\n",
       "<style scoped>\n",
       "    .dataframe tbody tr th:only-of-type {\n",
       "        vertical-align: middle;\n",
       "    }\n",
       "\n",
       "    .dataframe tbody tr th {\n",
       "        vertical-align: top;\n",
       "    }\n",
       "\n",
       "    .dataframe thead th {\n",
       "        text-align: right;\n",
       "    }\n",
       "</style>\n",
       "<table border=\"1\" class=\"dataframe\">\n",
       "  <thead>\n",
       "    <tr style=\"text-align: right;\">\n",
       "      <th></th>\n",
       "      <th>Index</th>\n",
       "      <th>Accident_Severity</th>\n",
       "      <th>Accident Date</th>\n",
       "      <th>Latitude</th>\n",
       "      <th>Light_Conditions</th>\n",
       "      <th>District Area</th>\n",
       "      <th>Longitude</th>\n",
       "      <th>Number_of_Casualties</th>\n",
       "      <th>Number_of_Vehicles</th>\n",
       "      <th>Road_Surface_Conditions</th>\n",
       "      <th>Road_Type</th>\n",
       "      <th>Urban_or_Rural_Area</th>\n",
       "      <th>Weather_Conditions</th>\n",
       "      <th>Vehicle_Type</th>\n",
       "    </tr>\n",
       "  </thead>\n",
       "  <tbody>\n",
       "    <tr>\n",
       "      <th>0</th>\n",
       "      <td>200701BS64157</td>\n",
       "      <td>Serious</td>\n",
       "      <td>5/6/2019</td>\n",
       "      <td>51.506187</td>\n",
       "      <td>Darkness - lights lit</td>\n",
       "      <td>Kensington and Chelsea</td>\n",
       "      <td>-0.209082</td>\n",
       "      <td>1</td>\n",
       "      <td>2</td>\n",
       "      <td>Dry</td>\n",
       "      <td>Single carriageway</td>\n",
       "      <td>Urban</td>\n",
       "      <td>Fine no high winds</td>\n",
       "      <td>Car</td>\n",
       "    </tr>\n",
       "    <tr>\n",
       "      <th>1</th>\n",
       "      <td>200701BS65737</td>\n",
       "      <td>Serious</td>\n",
       "      <td>2/7/2019</td>\n",
       "      <td>51.495029</td>\n",
       "      <td>Daylight</td>\n",
       "      <td>Kensington and Chelsea</td>\n",
       "      <td>-0.173647</td>\n",
       "      <td>1</td>\n",
       "      <td>2</td>\n",
       "      <td>Wet or damp</td>\n",
       "      <td>Single carriageway</td>\n",
       "      <td>Urban</td>\n",
       "      <td>Raining no high winds</td>\n",
       "      <td>Car</td>\n",
       "    </tr>\n",
       "    <tr>\n",
       "      <th>2</th>\n",
       "      <td>200701BS66127</td>\n",
       "      <td>Serious</td>\n",
       "      <td>26-08-2019</td>\n",
       "      <td>51.517715</td>\n",
       "      <td>Darkness - lighting unknown</td>\n",
       "      <td>Kensington and Chelsea</td>\n",
       "      <td>-0.210215</td>\n",
       "      <td>1</td>\n",
       "      <td>3</td>\n",
       "      <td>Dry</td>\n",
       "      <td>NaN</td>\n",
       "      <td>Urban</td>\n",
       "      <td>NaN</td>\n",
       "      <td>Taxi/Private hire car</td>\n",
       "    </tr>\n",
       "    <tr>\n",
       "      <th>3</th>\n",
       "      <td>200701BS66128</td>\n",
       "      <td>Serious</td>\n",
       "      <td>16-08-2019</td>\n",
       "      <td>51.495478</td>\n",
       "      <td>Daylight</td>\n",
       "      <td>Kensington and Chelsea</td>\n",
       "      <td>-0.202731</td>\n",
       "      <td>1</td>\n",
       "      <td>4</td>\n",
       "      <td>Dry</td>\n",
       "      <td>Single carriageway</td>\n",
       "      <td>Urban</td>\n",
       "      <td>Fine no high winds</td>\n",
       "      <td>Bus or coach (17 or more pass seats)</td>\n",
       "    </tr>\n",
       "    <tr>\n",
       "      <th>4</th>\n",
       "      <td>200701BS66837</td>\n",
       "      <td>Slight</td>\n",
       "      <td>3/9/2019</td>\n",
       "      <td>51.488576</td>\n",
       "      <td>Darkness - lights lit</td>\n",
       "      <td>Kensington and Chelsea</td>\n",
       "      <td>-0.192487</td>\n",
       "      <td>1</td>\n",
       "      <td>2</td>\n",
       "      <td>Dry</td>\n",
       "      <td>NaN</td>\n",
       "      <td>Urban</td>\n",
       "      <td>NaN</td>\n",
       "      <td>Other vehicle</td>\n",
       "    </tr>\n",
       "    <tr>\n",
       "      <th>...</th>\n",
       "      <td>...</td>\n",
       "      <td>...</td>\n",
       "      <td>...</td>\n",
       "      <td>...</td>\n",
       "      <td>...</td>\n",
       "      <td>...</td>\n",
       "      <td>...</td>\n",
       "      <td>...</td>\n",
       "      <td>...</td>\n",
       "      <td>...</td>\n",
       "      <td>...</td>\n",
       "      <td>...</td>\n",
       "      <td>...</td>\n",
       "      <td>...</td>\n",
       "    </tr>\n",
       "    <tr>\n",
       "      <th>660674</th>\n",
       "      <td>201091NM01760</td>\n",
       "      <td>Slight</td>\n",
       "      <td>18-02-2022</td>\n",
       "      <td>57.374005</td>\n",
       "      <td>Daylight</td>\n",
       "      <td>Highland</td>\n",
       "      <td>-3.467828</td>\n",
       "      <td>2</td>\n",
       "      <td>1</td>\n",
       "      <td>Dry</td>\n",
       "      <td>Single carriageway</td>\n",
       "      <td>Rural</td>\n",
       "      <td>Fine no high winds</td>\n",
       "      <td>Car</td>\n",
       "    </tr>\n",
       "    <tr>\n",
       "      <th>660675</th>\n",
       "      <td>201091NM01881</td>\n",
       "      <td>Slight</td>\n",
       "      <td>21-02-2022</td>\n",
       "      <td>57.232273</td>\n",
       "      <td>Darkness - no lighting</td>\n",
       "      <td>Highland</td>\n",
       "      <td>-3.809281</td>\n",
       "      <td>1</td>\n",
       "      <td>1</td>\n",
       "      <td>Frost or ice</td>\n",
       "      <td>Single carriageway</td>\n",
       "      <td>Rural</td>\n",
       "      <td>Fine no high winds</td>\n",
       "      <td>Car</td>\n",
       "    </tr>\n",
       "    <tr>\n",
       "      <th>660676</th>\n",
       "      <td>201091NM01935</td>\n",
       "      <td>Slight</td>\n",
       "      <td>23-02-2022</td>\n",
       "      <td>57.585044</td>\n",
       "      <td>Daylight</td>\n",
       "      <td>Highland</td>\n",
       "      <td>-3.862727</td>\n",
       "      <td>1</td>\n",
       "      <td>3</td>\n",
       "      <td>Frost or ice</td>\n",
       "      <td>Single carriageway</td>\n",
       "      <td>Rural</td>\n",
       "      <td>Fine no high winds</td>\n",
       "      <td>Car</td>\n",
       "    </tr>\n",
       "    <tr>\n",
       "      <th>660677</th>\n",
       "      <td>201091NM01964</td>\n",
       "      <td>Serious</td>\n",
       "      <td>23-02-2022</td>\n",
       "      <td>57.214898</td>\n",
       "      <td>Darkness - no lighting</td>\n",
       "      <td>Highland</td>\n",
       "      <td>-3.823997</td>\n",
       "      <td>1</td>\n",
       "      <td>2</td>\n",
       "      <td>Wet or damp</td>\n",
       "      <td>Single carriageway</td>\n",
       "      <td>Rural</td>\n",
       "      <td>Fine no high winds</td>\n",
       "      <td>Motorcycle over 500cc</td>\n",
       "    </tr>\n",
       "    <tr>\n",
       "      <th>660678</th>\n",
       "      <td>201091NM02142</td>\n",
       "      <td>Serious</td>\n",
       "      <td>28-02-2022</td>\n",
       "      <td>57.575210</td>\n",
       "      <td>Daylight</td>\n",
       "      <td>Highland</td>\n",
       "      <td>-3.895673</td>\n",
       "      <td>1</td>\n",
       "      <td>1</td>\n",
       "      <td>Wet or damp</td>\n",
       "      <td>Dual carriageway</td>\n",
       "      <td>Rural</td>\n",
       "      <td>Snowing no high winds</td>\n",
       "      <td>Car</td>\n",
       "    </tr>\n",
       "  </tbody>\n",
       "</table>\n",
       "<p>660679 rows × 14 columns</p>\n",
       "</div>"
      ],
      "text/plain": [
       "                Index Accident_Severity Accident Date   Latitude  \\\n",
       "0       200701BS64157           Serious      5/6/2019  51.506187   \n",
       "1       200701BS65737           Serious      2/7/2019  51.495029   \n",
       "2       200701BS66127           Serious    26-08-2019  51.517715   \n",
       "3       200701BS66128           Serious    16-08-2019  51.495478   \n",
       "4       200701BS66837            Slight      3/9/2019  51.488576   \n",
       "...               ...               ...           ...        ...   \n",
       "660674  201091NM01760            Slight    18-02-2022  57.374005   \n",
       "660675  201091NM01881            Slight    21-02-2022  57.232273   \n",
       "660676  201091NM01935            Slight    23-02-2022  57.585044   \n",
       "660677  201091NM01964           Serious    23-02-2022  57.214898   \n",
       "660678  201091NM02142           Serious    28-02-2022  57.575210   \n",
       "\n",
       "                   Light_Conditions           District Area  Longitude  \\\n",
       "0             Darkness - lights lit  Kensington and Chelsea  -0.209082   \n",
       "1                          Daylight  Kensington and Chelsea  -0.173647   \n",
       "2       Darkness - lighting unknown  Kensington and Chelsea  -0.210215   \n",
       "3                          Daylight  Kensington and Chelsea  -0.202731   \n",
       "4             Darkness - lights lit  Kensington and Chelsea  -0.192487   \n",
       "...                             ...                     ...        ...   \n",
       "660674                     Daylight                Highland  -3.467828   \n",
       "660675       Darkness - no lighting                Highland  -3.809281   \n",
       "660676                     Daylight                Highland  -3.862727   \n",
       "660677       Darkness - no lighting                Highland  -3.823997   \n",
       "660678                     Daylight                Highland  -3.895673   \n",
       "\n",
       "        Number_of_Casualties  Number_of_Vehicles Road_Surface_Conditions  \\\n",
       "0                          1                   2                     Dry   \n",
       "1                          1                   2             Wet or damp   \n",
       "2                          1                   3                     Dry   \n",
       "3                          1                   4                     Dry   \n",
       "4                          1                   2                     Dry   \n",
       "...                      ...                 ...                     ...   \n",
       "660674                     2                   1                     Dry   \n",
       "660675                     1                   1            Frost or ice   \n",
       "660676                     1                   3            Frost or ice   \n",
       "660677                     1                   2             Wet or damp   \n",
       "660678                     1                   1             Wet or damp   \n",
       "\n",
       "                 Road_Type Urban_or_Rural_Area     Weather_Conditions  \\\n",
       "0       Single carriageway               Urban     Fine no high winds   \n",
       "1       Single carriageway               Urban  Raining no high winds   \n",
       "2                      NaN               Urban                    NaN   \n",
       "3       Single carriageway               Urban     Fine no high winds   \n",
       "4                      NaN               Urban                    NaN   \n",
       "...                    ...                 ...                    ...   \n",
       "660674  Single carriageway               Rural     Fine no high winds   \n",
       "660675  Single carriageway               Rural     Fine no high winds   \n",
       "660676  Single carriageway               Rural     Fine no high winds   \n",
       "660677  Single carriageway               Rural     Fine no high winds   \n",
       "660678    Dual carriageway               Rural  Snowing no high winds   \n",
       "\n",
       "                                Vehicle_Type  \n",
       "0                                        Car  \n",
       "1                                        Car  \n",
       "2                      Taxi/Private hire car  \n",
       "3       Bus or coach (17 or more pass seats)  \n",
       "4                              Other vehicle  \n",
       "...                                      ...  \n",
       "660674                                   Car  \n",
       "660675                                   Car  \n",
       "660676                                   Car  \n",
       "660677                 Motorcycle over 500cc  \n",
       "660678                                   Car  \n",
       "\n",
       "[660679 rows x 14 columns]"
      ]
     },
     "execution_count": 3,
     "metadata": {},
     "output_type": "execute_result"
    }
   ],
   "source": [
    "accident"
   ]
  },
  {
   "cell_type": "code",
   "execution_count": 4,
   "id": "4eb9bed0-854d-446d-87c9-fce2713e8b5c",
   "metadata": {},
   "outputs": [
    {
     "data": {
      "text/html": [
       "<div>\n",
       "<style scoped>\n",
       "    .dataframe tbody tr th:only-of-type {\n",
       "        vertical-align: middle;\n",
       "    }\n",
       "\n",
       "    .dataframe tbody tr th {\n",
       "        vertical-align: top;\n",
       "    }\n",
       "\n",
       "    .dataframe thead th {\n",
       "        text-align: right;\n",
       "    }\n",
       "</style>\n",
       "<table border=\"1\" class=\"dataframe\">\n",
       "  <thead>\n",
       "    <tr style=\"text-align: right;\">\n",
       "      <th></th>\n",
       "      <th>count</th>\n",
       "      <th>mean</th>\n",
       "      <th>std</th>\n",
       "      <th>min</th>\n",
       "      <th>25%</th>\n",
       "      <th>50%</th>\n",
       "      <th>75%</th>\n",
       "      <th>max</th>\n",
       "    </tr>\n",
       "  </thead>\n",
       "  <tbody>\n",
       "    <tr>\n",
       "      <th>Latitude</th>\n",
       "      <td>660654.0</td>\n",
       "      <td>52.553866</td>\n",
       "      <td>1.406922</td>\n",
       "      <td>49.914430</td>\n",
       "      <td>51.490690</td>\n",
       "      <td>52.315641</td>\n",
       "      <td>53.453452</td>\n",
       "      <td>60.757544</td>\n",
       "    </tr>\n",
       "    <tr>\n",
       "      <th>Longitude</th>\n",
       "      <td>660653.0</td>\n",
       "      <td>-1.431210</td>\n",
       "      <td>1.383330</td>\n",
       "      <td>-7.516225</td>\n",
       "      <td>-2.332291</td>\n",
       "      <td>-1.411667</td>\n",
       "      <td>-0.232869</td>\n",
       "      <td>1.762010</td>\n",
       "    </tr>\n",
       "    <tr>\n",
       "      <th>Number_of_Casualties</th>\n",
       "      <td>660679.0</td>\n",
       "      <td>1.357040</td>\n",
       "      <td>0.824847</td>\n",
       "      <td>1.000000</td>\n",
       "      <td>1.000000</td>\n",
       "      <td>1.000000</td>\n",
       "      <td>1.000000</td>\n",
       "      <td>68.000000</td>\n",
       "    </tr>\n",
       "    <tr>\n",
       "      <th>Number_of_Vehicles</th>\n",
       "      <td>660679.0</td>\n",
       "      <td>1.831255</td>\n",
       "      <td>0.715269</td>\n",
       "      <td>1.000000</td>\n",
       "      <td>1.000000</td>\n",
       "      <td>2.000000</td>\n",
       "      <td>2.000000</td>\n",
       "      <td>32.000000</td>\n",
       "    </tr>\n",
       "  </tbody>\n",
       "</table>\n",
       "</div>"
      ],
      "text/plain": [
       "                         count       mean       std        min        25%  \\\n",
       "Latitude              660654.0  52.553866  1.406922  49.914430  51.490690   \n",
       "Longitude             660653.0  -1.431210  1.383330  -7.516225  -2.332291   \n",
       "Number_of_Casualties  660679.0   1.357040  0.824847   1.000000   1.000000   \n",
       "Number_of_Vehicles    660679.0   1.831255  0.715269   1.000000   1.000000   \n",
       "\n",
       "                            50%        75%        max  \n",
       "Latitude              52.315641  53.453452  60.757544  \n",
       "Longitude             -1.411667  -0.232869   1.762010  \n",
       "Number_of_Casualties   1.000000   1.000000  68.000000  \n",
       "Number_of_Vehicles     2.000000   2.000000  32.000000  "
      ]
     },
     "execution_count": 4,
     "metadata": {},
     "output_type": "execute_result"
    }
   ],
   "source": [
    "accident.describe().T"
   ]
  },
  {
   "cell_type": "code",
   "execution_count": 5,
   "id": "ffad3fed-e39d-4b08-bf03-5416cbd40a9a",
   "metadata": {},
   "outputs": [
    {
     "data": {
      "text/plain": [
       "Index                          0\n",
       "Accident_Severity              0\n",
       "Accident Date                  0\n",
       "Latitude                      25\n",
       "Light_Conditions               0\n",
       "District Area                  0\n",
       "Longitude                     26\n",
       "Number_of_Casualties           0\n",
       "Number_of_Vehicles             0\n",
       "Road_Surface_Conditions      726\n",
       "Road_Type                   4520\n",
       "Urban_or_Rural_Area           15\n",
       "Weather_Conditions         14128\n",
       "Vehicle_Type                   0\n",
       "dtype: int64"
      ]
     },
     "execution_count": 5,
     "metadata": {},
     "output_type": "execute_result"
    }
   ],
   "source": [
    "accident.isnull().sum()"
   ]
  },
  {
   "cell_type": "code",
   "execution_count": 6,
   "id": "da924167-7e33-417f-ae16-ec74ccfe5ce8",
   "metadata": {},
   "outputs": [
    {
     "data": {
      "text/plain": [
       "Index                      0\n",
       "Accident_Severity          0\n",
       "Accident Date              0\n",
       "Latitude                   0\n",
       "Light_Conditions           0\n",
       "District Area              0\n",
       "Longitude                  0\n",
       "Number_of_Casualties       0\n",
       "Number_of_Vehicles         0\n",
       "Road_Surface_Conditions    0\n",
       "Road_Type                  0\n",
       "Urban_or_Rural_Area        0\n",
       "Weather_Conditions         0\n",
       "Vehicle_Type               0\n",
       "dtype: int64"
      ]
     },
     "execution_count": 6,
     "metadata": {},
     "output_type": "execute_result"
    }
   ],
   "source": [
    "accident['Latitude']=accident['Latitude'].fillna(accident['Latitude'].mean())\n",
    "accident['Longitude']=accident['Longitude'].fillna(accident['Longitude'].mean())\n",
    "accident['Road_Surface_Conditions']=accident['Road_Surface_Conditions'].fillna(accident['Road_Surface_Conditions'].mode()[0])\n",
    "accident['Road_Type']=accident['Road_Type'].fillna(accident['Road_Type'].mode()[0])\n",
    "accident['Urban_or_Rural_Area']=accident['Urban_or_Rural_Area'].fillna(accident['Urban_or_Rural_Area'].mode()[0])\n",
    "accident['Weather_Conditions']=accident['Weather_Conditions'].fillna(accident['Weather_Conditions'].mode()[0])\n",
    "accident.isnull().sum()"
   ]
  },
  {
   "cell_type": "code",
   "execution_count": 7,
   "id": "7bc48353-298b-46ea-8b54-9e46614a95a4",
   "metadata": {},
   "outputs": [
    {
     "name": "stdout",
     "output_type": "stream",
     "text": [
      "<class 'pandas.core.frame.DataFrame'>\n",
      "RangeIndex: 660679 entries, 0 to 660678\n",
      "Data columns (total 14 columns):\n",
      " #   Column                   Non-Null Count   Dtype  \n",
      "---  ------                   --------------   -----  \n",
      " 0   Index                    660679 non-null  object \n",
      " 1   Accident_Severity        660679 non-null  object \n",
      " 2   Accident Date            660679 non-null  object \n",
      " 3   Latitude                 660679 non-null  float64\n",
      " 4   Light_Conditions         660679 non-null  object \n",
      " 5   District Area            660679 non-null  object \n",
      " 6   Longitude                660679 non-null  float64\n",
      " 7   Number_of_Casualties     660679 non-null  int64  \n",
      " 8   Number_of_Vehicles       660679 non-null  int64  \n",
      " 9   Road_Surface_Conditions  660679 non-null  object \n",
      " 10  Road_Type                660679 non-null  object \n",
      " 11  Urban_or_Rural_Area      660679 non-null  object \n",
      " 12  Weather_Conditions       660679 non-null  object \n",
      " 13  Vehicle_Type             660679 non-null  object \n",
      "dtypes: float64(2), int64(2), object(10)\n",
      "memory usage: 70.6+ MB\n"
     ]
    }
   ],
   "source": [
    "accident.info()"
   ]
  },
  {
   "cell_type": "code",
   "execution_count": 8,
   "id": "67c3a042-bc69-4d52-935b-23abeae56c6b",
   "metadata": {},
   "outputs": [
    {
     "name": "stdout",
     "output_type": "stream",
     "text": [
      "<class 'pandas.core.frame.DataFrame'>\n",
      "RangeIndex: 660679 entries, 0 to 660678\n",
      "Data columns (total 14 columns):\n",
      " #   Column                   Non-Null Count   Dtype   \n",
      "---  ------                   --------------   -----   \n",
      " 0   Index                    660679 non-null  category\n",
      " 1   Accident_Severity        660679 non-null  category\n",
      " 2   Accident Date            660679 non-null  category\n",
      " 3   Latitude                 660679 non-null  float64 \n",
      " 4   Light_Conditions         660679 non-null  category\n",
      " 5   District Area            660679 non-null  category\n",
      " 6   Longitude                660679 non-null  float64 \n",
      " 7   Number_of_Casualties     660679 non-null  int64   \n",
      " 8   Number_of_Vehicles       660679 non-null  int64   \n",
      " 9   Road_Surface_Conditions  660679 non-null  category\n",
      " 10  Road_Type                660679 non-null  category\n",
      " 11  Urban_or_Rural_Area      660679 non-null  category\n",
      " 12  Weather_Conditions       660679 non-null  category\n",
      " 13  Vehicle_Type             660679 non-null  category\n",
      "dtypes: category(10), float64(2), int64(2)\n",
      "memory usage: 49.0 MB\n"
     ]
    }
   ],
   "source": [
    "accident['Index']=accident['Index'].astype('category')\n",
    "accident['Accident_Severity']=accident['Accident_Severity'].astype('category')\n",
    "accident['Accident Date']=accident['Accident Date'].astype('category')\n",
    "accident['Light_Conditions']=accident['Light_Conditions'].astype('category')\n",
    "accident['District Area']=accident['District Area'].astype('category')\n",
    "accident['Road_Surface_Conditions']=accident['Road_Surface_Conditions'].astype('category')\n",
    "accident['Road_Type']=accident['Road_Type'].astype('category')\n",
    "accident['Urban_or_Rural_Area']=accident['Urban_or_Rural_Area'].astype('category')\n",
    "accident['Weather_Conditions']=accident['Weather_Conditions'].astype('category')\n",
    "accident['Vehicle_Type']=accident['Vehicle_Type'].astype('category')\n",
    "accident.info()"
   ]
  },
  {
   "cell_type": "markdown",
   "id": "7808ba11-5c8c-42c5-bc42-a2a494092876",
   "metadata": {},
   "source": [
    "<h2>1.What is the average number of accidents in the dataframe?</h2>"
   ]
  },
  {
   "cell_type": "code",
   "execution_count": 9,
   "id": "c211455f-0590-4507-860b-4aba3a432e63",
   "metadata": {},
   "outputs": [],
   "source": [
    "total_accident= len(accident)"
   ]
  },
  {
   "cell_type": "code",
   "execution_count": 10,
   "id": "9a0efc76-74f5-40fa-954d-5a879ea75016",
   "metadata": {},
   "outputs": [
    {
     "data": {
      "text/plain": [
       "660679"
      ]
     },
     "execution_count": 10,
     "metadata": {},
     "output_type": "execute_result"
    }
   ],
   "source": [
    "total_accident"
   ]
  },
  {
   "cell_type": "markdown",
   "id": "ecfacd86-4ecf-4de8-95d9-475d0c46c21c",
   "metadata": {},
   "source": [
    "<h4>INSIGHT: The average number of accidents in the dataframe is 660679.</h4>"
   ]
  },
  {
   "cell_type": "markdown",
   "id": "3e167b66-13aa-41ac-a071-dd0f7c303f24",
   "metadata": {},
   "source": [
    "<h2>2.What is the distribution of accident severity?</h2>"
   ]
  },
  {
   "cell_type": "code",
   "execution_count": 11,
   "id": "77639976-3760-4b2a-bcec-c8e66584288e",
   "metadata": {},
   "outputs": [
    {
     "data": {
      "text/plain": [
       "Accident_Severity\n",
       "Slight     563801\n",
       "Serious     88217\n",
       "Fatal        8661\n",
       "Name: count, dtype: int64"
      ]
     },
     "execution_count": 11,
     "metadata": {},
     "output_type": "execute_result"
    }
   ],
   "source": [
    "accident['Accident_Severity'].value_counts()"
   ]
  },
  {
   "cell_type": "markdown",
   "id": "2151dad0-a20d-4fa9-98ec-fa3d20fc3758",
   "metadata": {},
   "source": [
    "<h4>INSIGHT: Most accidents are recorded slight in severity and fatal accidents is recorded as the least number in severity.</h4>"
   ]
  },
  {
   "cell_type": "markdown",
   "id": "dcb34370-aa90-4bda-a747-064a46a2ec1c",
   "metadata": {},
   "source": [
    "<h2>3.What is the average number of casualties for every accident?</h2>"
   ]
  },
  {
   "cell_type": "code",
   "execution_count": 12,
   "id": "3dd5b5b6-2401-43fb-ae78-a9419cecdc3f",
   "metadata": {},
   "outputs": [],
   "source": [
    "casualties_accident = accident['Number_of_Casualties'].mean()"
   ]
  },
  {
   "cell_type": "code",
   "execution_count": 13,
   "id": "72997d8b-112f-4df5-9a1c-46a5f3a5b65a",
   "metadata": {},
   "outputs": [
    {
     "data": {
      "text/plain": [
       "1.357040257068864"
      ]
     },
     "execution_count": 13,
     "metadata": {},
     "output_type": "execute_result"
    }
   ],
   "source": [
    "casualties_accident"
   ]
  },
  {
   "cell_type": "markdown",
   "id": "9cdbb678-ef31-4701-9b32-d99f1a48489a",
   "metadata": {},
   "source": [
    "<h4>INSIGHT:There are about 1.36 casualties per accident.</h4>"
   ]
  },
  {
   "cell_type": "markdown",
   "id": "211cff08-bc5d-45e9-b45c-3c06e98da85d",
   "metadata": {},
   "source": [
    "<h2>4.How many accidents occurred during daylight versus darkness?</h2>"
   ]
  },
  {
   "cell_type": "code",
   "execution_count": 14,
   "id": "cd292ef9-dd22-4b44-85a6-e16641169cc8",
   "metadata": {},
   "outputs": [
    {
     "data": {
      "text/plain": [
       "Light_Conditions\n",
       "Daylight                       484880\n",
       "Darkness - lights lit          129335\n",
       "Darkness - no lighting          37437\n",
       "Darkness - lighting unknown      6484\n",
       "Darkness - lights unlit          2543\n",
       "Name: count, dtype: int64"
      ]
     },
     "execution_count": 14,
     "metadata": {},
     "output_type": "execute_result"
    }
   ],
   "source": [
    "accident['Light_Conditions'].value_counts()"
   ]
  },
  {
   "cell_type": "markdown",
   "id": "09e9e6aa-d454-4705-afcc-8dacded8b4a0",
   "metadata": {},
   "source": [
    "<h4>INSIGHT: Most accidents happened during the day (484,880). Fewer accidents happened at night with streetlights (129,335).</h4>"
   ]
  },
  {
   "cell_type": "markdown",
   "id": "88a9ede4-ca22-4055-9f0c-3e11d09c2c55",
   "metadata": {},
   "source": [
    "<h2>5.Which district area has the most number of accidents?.</h2>"
   ]
  },
  {
   "cell_type": "code",
   "execution_count": 15,
   "id": "760dc92b-6d34-459f-b277-5ab885493fff",
   "metadata": {},
   "outputs": [
    {
     "data": {
      "text/plain": [
       "District Area\n",
       "Birmingham            13491\n",
       "Leeds                  8898\n",
       "Manchester             6720\n",
       "Bradford               6212\n",
       "Sheffield              5710\n",
       "                      ...  \n",
       "Berwick-upon-Tweed      153\n",
       "Teesdale                142\n",
       "Shetland Islands        133\n",
       "Orkney Islands          117\n",
       "Clackmannanshire         91\n",
       "Name: count, Length: 422, dtype: int64"
      ]
     },
     "execution_count": 15,
     "metadata": {},
     "output_type": "execute_result"
    }
   ],
   "source": [
    "accident['District Area'].value_counts()"
   ]
  },
  {
   "cell_type": "markdown",
   "id": "4acfa706-356a-49fb-8250-1102cd6ba365",
   "metadata": {},
   "source": [
    "<h4>INSIGHT: Birmingham has the most number of accidents a total of 13,439 and the area that has the least number of accidents with the total of 91. </h4>"
   ]
  },
  {
   "cell_type": "markdown",
   "id": "6366a272-78a7-4b4b-8b48-1b163dd22a8c",
   "metadata": {},
   "source": [
    "<h2>6.What area has the most casualties per accident?</h2>"
   ]
  },
  {
   "cell_type": "code",
   "execution_count": 16,
   "id": "38b93b56-bc6d-46bc-b563-beb4487a8ce8",
   "metadata": {},
   "outputs": [
    {
     "data": {
      "text/plain": [
       "Urban_or_Rural_Area\n",
       "Urban          421678\n",
       "Rural          238990\n",
       "Unallocated        11\n",
       "Name: count, dtype: int64"
      ]
     },
     "execution_count": 16,
     "metadata": {},
     "output_type": "execute_result"
    }
   ],
   "source": [
    "accident['Urban_or_Rural_Area'].value_counts()"
   ]
  },
  {
   "cell_type": "markdown",
   "id": "ebc303d1-ddfa-4b5e-b189-c3b231824339",
   "metadata": {},
   "source": [
    "<h4>INSIGHT: Urban area has the most number of casualties per accident with the total of 421,678 than rural area.</h4>"
   ]
  },
  {
   "cell_type": "markdown",
   "id": "cb88540e-4cfa-4a7f-afc2-ec58c6db2c87",
   "metadata": {},
   "source": [
    "<h2>7.What weather condition has the largest number of accident?</h2>"
   ]
  },
  {
   "cell_type": "code",
   "execution_count": 17,
   "id": "a464bf22-64a8-43be-b2f2-39baa1fb2835",
   "metadata": {},
   "outputs": [
    {
     "data": {
      "text/plain": [
       "Weather_Conditions\n",
       "Fine no high winds       535013\n",
       "Raining no high winds     79696\n",
       "Other                     17150\n",
       "Raining + high winds       9615\n",
       "Fine + high winds          8554\n",
       "Snowing no high winds      6238\n",
       "Fog or mist                3528\n",
       "Snowing + high winds        885\n",
       "Name: count, dtype: int64"
      ]
     },
     "execution_count": 17,
     "metadata": {},
     "output_type": "execute_result"
    }
   ],
   "source": [
    "accident['Weather_Conditions'].value_counts()"
   ]
  },
  {
   "cell_type": "markdown",
   "id": "ac90ae8e-7cc6-4a58-9d51-46129df3a2ff",
   "metadata": {},
   "source": [
    "<h4>INSIGHT: The weather condition that has the highest number of accident is in fine no high winds.</h4>"
   ]
  },
  {
   "cell_type": "markdown",
   "id": "6285f090-f318-445a-8f3c-bccfa17f8857",
   "metadata": {},
   "source": [
    "<h2>8.Which district has the highest average casualties per accident?</h2>"
   ]
  },
  {
   "cell_type": "code",
   "execution_count": 18,
   "id": "7662fb40-c72e-4b9c-8e1a-2b65087babfa",
   "metadata": {},
   "outputs": [
    {
     "data": {
      "text/plain": [
       "District Area\n",
       "Blaeu Gwent          1.693694\n",
       "West Somerset        1.613990\n",
       "Derwentside          1.606186\n",
       "Chester-le-Street    1.603306\n",
       "Durham               1.580431\n",
       "Blaenau Gwent        1.579310\n",
       "Fylde                1.569350\n",
       "Hambleton            1.568523\n",
       "Merthyr Tydfil       1.568182\n",
       "West Lancashire      1.566341\n",
       "Name: Number_of_Casualties, dtype: float64"
      ]
     },
     "execution_count": 18,
     "metadata": {},
     "output_type": "execute_result"
    }
   ],
   "source": [
    "accident.groupby('District Area')['Number_of_Casualties'].mean().sort_values(ascending=False).head(10)"
   ]
  },
  {
   "cell_type": "markdown",
   "id": "0731b2be-927b-488b-93d8-3916876e6074",
   "metadata": {},
   "source": [
    "<h4>INSIGHT: Bleau Gwent district has the highest number of casualties with the total average of 1.69.</h4>"
   ]
  },
  {
   "cell_type": "markdown",
   "id": "b2478461-4b0f-444a-b6fe-bb4112f867e6",
   "metadata": {},
   "source": [
    "<h2>9.What is the total number of Accident Severity in a Single carriageway?</h2>"
   ]
  },
  {
   "cell_type": "code",
   "execution_count": 19,
   "id": "36b588b3-b1b2-4577-8e36-339a43ae6a20",
   "metadata": {},
   "outputs": [
    {
     "data": {
      "text/plain": [
       "Accident_Severity\n",
       "Slight     419563\n",
       "Serious     70540\n",
       "Fatal        6560\n",
       "Name: count, dtype: int64"
      ]
     },
     "execution_count": 19,
     "metadata": {},
     "output_type": "execute_result"
    }
   ],
   "source": [
    "single_carriageway= accident[accident['Road_Type'] == 'Single carriageway']\n",
    "single_carriageway['Accident_Severity'].value_counts()"
   ]
  },
  {
   "cell_type": "markdown",
   "id": "03d76e2e-7cdc-4b64-82f2-55ad184b1b2f",
   "metadata": {},
   "source": [
    "<h4>INSIGHT: On single carriageway roads, slight accidents are the most frequent with 419,563 cases. Serious accidents occur less often at 70,540 cases, while fatal accidents are the least common with 6,560 cases.</h4>"
   ]
  },
  {
   "cell_type": "markdown",
   "id": "1b0e029a-5250-4450-8fd3-5c1f97bfb501",
   "metadata": {},
   "source": [
    "<h2>10.What is the total number of Accident Severity in a double carriageway?</h2>"
   ]
  },
  {
   "cell_type": "code",
   "execution_count": 20,
   "id": "77af942a-2f37-4f7a-a25b-5701efc84893",
   "metadata": {},
   "outputs": [
    {
     "data": {
      "text/plain": [
       "Accident_Severity\n",
       "Slight     85863\n",
       "Serious    11746\n",
       "Fatal       1815\n",
       "Name: count, dtype: int64"
      ]
     },
     "execution_count": 20,
     "metadata": {},
     "output_type": "execute_result"
    }
   ],
   "source": [
    "dual_carriageway= accident[accident['Road_Type'] == 'Dual carriageway']\n",
    "dual_carriageway['Accident_Severity'].value_counts()"
   ]
  },
  {
   "cell_type": "markdown",
   "id": "af344f6f-3fe2-4044-a087-264c76f6240e",
   "metadata": {},
   "source": [
    "<h4>INSIGHT: On dual carriageway roads, slight accidents are the most frequent with 85,863 cases. Serious accidents occur less often at 11,746 cases, while fatal accidents are the least common with 1,815 cases.</h4>"
   ]
  },
  {
   "cell_type": "markdown",
   "id": "ac330b21-3829-4049-af08-6f0893896655",
   "metadata": {},
   "source": [
    "<h2>11.Which vehicle type is most involved in accidents?</h2>"
   ]
  },
  {
   "cell_type": "code",
   "execution_count": 21,
   "id": "9b9a9e51-ddb1-4b9b-a74b-235b3a900688",
   "metadata": {},
   "outputs": [
    {
     "data": {
      "text/plain": [
       "Vehicle_Type\n",
       "Car                                     6577\n",
       "Van / Goods 3.5 tonnes mgw or under      467\n",
       "Motorcycle over 500cc                    339\n",
       "Bus or coach (17 or more pass seats)     325\n",
       "Goods 7.5 tonnes mgw and over            216\n",
       "Name: count, dtype: int64"
      ]
     },
     "execution_count": 21,
     "metadata": {},
     "output_type": "execute_result"
    }
   ],
   "source": [
    "accident[accident['Accident_Severity'] == 'Fatal']['Vehicle_Type'].value_counts().head(5)"
   ]
  },
  {
   "cell_type": "markdown",
   "id": "e2177e48-a170-4655-9261-9af1d6e56e7a",
   "metadata": {},
   "source": [
    "<h4>INSIGHT: Car is the most vehicle involved in accidents</h4>"
   ]
  },
  {
   "cell_type": "markdown",
   "id": "3e1d0b2e-39b3-47b4-8295-34b75e791833",
   "metadata": {},
   "source": [
    "<h2>12.What road type is most involved accident?</h2>"
   ]
  },
  {
   "cell_type": "code",
   "execution_count": 22,
   "id": "bfcf0cf8-9e6f-4ab1-8420-45321dbdcffc",
   "metadata": {},
   "outputs": [
    {
     "data": {
      "text/plain": [
       "Road_Type\n",
       "Single carriageway    496663\n",
       "Dual carriageway       99424\n",
       "Roundabout             43992\n",
       "One way street         13559\n",
       "Slip road               7041\n",
       "Name: count, dtype: int64"
      ]
     },
     "execution_count": 22,
     "metadata": {},
     "output_type": "execute_result"
    }
   ],
   "source": [
    "accident['Road_Type'].value_counts()"
   ]
  },
  {
   "cell_type": "markdown",
   "id": "c2c45047-c646-40e3-9d52-726562215ed3",
   "metadata": {},
   "source": [
    "<h4>INSIGHT: Single carriageways are the most involved road type in accidents with the average number of 496,663.</h4>"
   ]
  },
  {
   "cell_type": "markdown",
   "id": "33a8da4b-94c9-4ad8-85fd-1bdd0e08224e",
   "metadata": {},
   "source": [
    "<h2>13.The vehicle accidents is related to the frequency of the number of casualties.</h2>"
   ]
  },
  {
   "cell_type": "code",
   "execution_count": 23,
   "id": "dad9a4bb-a36c-464e-aa5b-8c1c1312ca0c",
   "metadata": {},
   "outputs": [
    {
     "data": {
      "text/plain": [
       "0.22888886126927627"
      ]
     },
     "execution_count": 23,
     "metadata": {},
     "output_type": "execute_result"
    }
   ],
   "source": [
    "accident['Number_of_Casualties'].corr(accident['Number_of_Vehicles'])"
   ]
  },
  {
   "cell_type": "markdown",
   "id": "67b1ed19-f46f-4992-89b3-152fccc55b17",
   "metadata": {},
   "source": [
    "<h4>INSIGHT: The vehicle accidents is related to the frequency of the number of casualties.</h4>"
   ]
  },
  {
   "cell_type": "markdown",
   "id": "fbe56a4b-7f2f-4c47-92c0-c34d2a491c0c",
   "metadata": {},
   "source": [
    "<h2>14.Which weather condition has the lowest fatal level of accident severity?</h2>"
   ]
  },
  {
   "cell_type": "code",
   "execution_count": 24,
   "id": "ade11a4a-5c25-4a0c-b869-2dff8c7511a5",
   "metadata": {},
   "outputs": [
    {
     "data": {
      "text/html": [
       "<div>\n",
       "<style scoped>\n",
       "    .dataframe tbody tr th:only-of-type {\n",
       "        vertical-align: middle;\n",
       "    }\n",
       "\n",
       "    .dataframe tbody tr th {\n",
       "        vertical-align: top;\n",
       "    }\n",
       "\n",
       "    .dataframe thead th {\n",
       "        text-align: right;\n",
       "    }\n",
       "</style>\n",
       "<table border=\"1\" class=\"dataframe\">\n",
       "  <thead>\n",
       "    <tr style=\"text-align: right;\">\n",
       "      <th>Accident_Severity</th>\n",
       "      <th>Fatal</th>\n",
       "      <th>Serious</th>\n",
       "      <th>Slight</th>\n",
       "    </tr>\n",
       "    <tr>\n",
       "      <th>Weather_Conditions</th>\n",
       "      <th></th>\n",
       "      <th></th>\n",
       "      <th></th>\n",
       "    </tr>\n",
       "  </thead>\n",
       "  <tbody>\n",
       "    <tr>\n",
       "      <th>Fine + high winds</th>\n",
       "      <td>175</td>\n",
       "      <td>1245</td>\n",
       "      <td>7134</td>\n",
       "    </tr>\n",
       "    <tr>\n",
       "      <th>Fine no high winds</th>\n",
       "      <td>7207</td>\n",
       "      <td>73285</td>\n",
       "      <td>454521</td>\n",
       "    </tr>\n",
       "    <tr>\n",
       "      <th>Fog or mist</th>\n",
       "      <td>82</td>\n",
       "      <td>483</td>\n",
       "      <td>2963</td>\n",
       "    </tr>\n",
       "    <tr>\n",
       "      <th>Other</th>\n",
       "      <td>165</td>\n",
       "      <td>1801</td>\n",
       "      <td>15184</td>\n",
       "    </tr>\n",
       "    <tr>\n",
       "      <th>Raining + high winds</th>\n",
       "      <td>145</td>\n",
       "      <td>1261</td>\n",
       "      <td>8209</td>\n",
       "    </tr>\n",
       "    <tr>\n",
       "      <th>Raining no high winds</th>\n",
       "      <td>848</td>\n",
       "      <td>9468</td>\n",
       "      <td>69380</td>\n",
       "    </tr>\n",
       "    <tr>\n",
       "      <th>Snowing + high winds</th>\n",
       "      <td>3</td>\n",
       "      <td>109</td>\n",
       "      <td>773</td>\n",
       "    </tr>\n",
       "    <tr>\n",
       "      <th>Snowing no high winds</th>\n",
       "      <td>36</td>\n",
       "      <td>565</td>\n",
       "      <td>5637</td>\n",
       "    </tr>\n",
       "  </tbody>\n",
       "</table>\n",
       "</div>"
      ],
      "text/plain": [
       "Accident_Severity      Fatal  Serious  Slight\n",
       "Weather_Conditions                           \n",
       "Fine + high winds        175     1245    7134\n",
       "Fine no high winds      7207    73285  454521\n",
       "Fog or mist               82      483    2963\n",
       "Other                    165     1801   15184\n",
       "Raining + high winds     145     1261    8209\n",
       "Raining no high winds    848     9468   69380\n",
       "Snowing + high winds       3      109     773\n",
       "Snowing no high winds     36      565    5637"
      ]
     },
     "execution_count": 24,
     "metadata": {},
     "output_type": "execute_result"
    }
   ],
   "source": [
    "accident.groupby([\"Weather_Conditions\", \"Accident_Severity\"]).size().unstack()"
   ]
  },
  {
   "cell_type": "markdown",
   "id": "5a252533-f959-4baf-97fb-ddad8ad9d21e",
   "metadata": {},
   "source": [
    "<h4>INSIGHT: The weather condition with the lowest fatal accident severity is Snowing + high winds with only a record of 3.\n",
    "</h4>"
   ]
  },
  {
   "cell_type": "markdown",
   "id": "1f55520c-64ec-4559-9d5b-430ceb5cc9f6",
   "metadata": {},
   "source": [
    "<h2>15.In rural area what district has the most accident happened </h2>"
   ]
  },
  {
   "cell_type": "code",
   "execution_count": 25,
   "id": "7fad78d9-acdb-48c6-8652-4a5822d396cc",
   "metadata": {},
   "outputs": [
    {
     "data": {
      "text/html": [
       "<div>\n",
       "<style scoped>\n",
       "    .dataframe tbody tr th:only-of-type {\n",
       "        vertical-align: middle;\n",
       "    }\n",
       "\n",
       "    .dataframe tbody tr th {\n",
       "        vertical-align: top;\n",
       "    }\n",
       "\n",
       "    .dataframe thead th {\n",
       "        text-align: right;\n",
       "    }\n",
       "</style>\n",
       "<table border=\"1\" class=\"dataframe\">\n",
       "  <thead>\n",
       "    <tr style=\"text-align: right;\">\n",
       "      <th></th>\n",
       "      <th></th>\n",
       "      <th>Index</th>\n",
       "      <th>Accident_Severity</th>\n",
       "      <th>Accident Date</th>\n",
       "      <th>Latitude</th>\n",
       "      <th>Light_Conditions</th>\n",
       "      <th>Longitude</th>\n",
       "      <th>Number_of_Casualties</th>\n",
       "      <th>Number_of_Vehicles</th>\n",
       "      <th>Road_Surface_Conditions</th>\n",
       "      <th>Road_Type</th>\n",
       "      <th>Weather_Conditions</th>\n",
       "      <th>Vehicle_Type</th>\n",
       "    </tr>\n",
       "    <tr>\n",
       "      <th>District Area</th>\n",
       "      <th>Urban_or_Rural_Area</th>\n",
       "      <th></th>\n",
       "      <th></th>\n",
       "      <th></th>\n",
       "      <th></th>\n",
       "      <th></th>\n",
       "      <th></th>\n",
       "      <th></th>\n",
       "      <th></th>\n",
       "      <th></th>\n",
       "      <th></th>\n",
       "      <th></th>\n",
       "      <th></th>\n",
       "    </tr>\n",
       "  </thead>\n",
       "  <tbody>\n",
       "    <tr>\n",
       "      <th rowspan=\"3\" valign=\"top\">Aberdeen City</th>\n",
       "      <th>Rural</th>\n",
       "      <td>207</td>\n",
       "      <td>207</td>\n",
       "      <td>207</td>\n",
       "      <td>207</td>\n",
       "      <td>207</td>\n",
       "      <td>207</td>\n",
       "      <td>207</td>\n",
       "      <td>207</td>\n",
       "      <td>207</td>\n",
       "      <td>207</td>\n",
       "      <td>207</td>\n",
       "      <td>207</td>\n",
       "    </tr>\n",
       "    <tr>\n",
       "      <th>Unallocated</th>\n",
       "      <td>0</td>\n",
       "      <td>0</td>\n",
       "      <td>0</td>\n",
       "      <td>0</td>\n",
       "      <td>0</td>\n",
       "      <td>0</td>\n",
       "      <td>0</td>\n",
       "      <td>0</td>\n",
       "      <td>0</td>\n",
       "      <td>0</td>\n",
       "      <td>0</td>\n",
       "      <td>0</td>\n",
       "    </tr>\n",
       "    <tr>\n",
       "      <th>Urban</th>\n",
       "      <td>1116</td>\n",
       "      <td>1116</td>\n",
       "      <td>1116</td>\n",
       "      <td>1116</td>\n",
       "      <td>1116</td>\n",
       "      <td>1116</td>\n",
       "      <td>1116</td>\n",
       "      <td>1116</td>\n",
       "      <td>1116</td>\n",
       "      <td>1116</td>\n",
       "      <td>1116</td>\n",
       "      <td>1116</td>\n",
       "    </tr>\n",
       "    <tr>\n",
       "      <th rowspan=\"2\" valign=\"top\">Aberdeenshire</th>\n",
       "      <th>Rural</th>\n",
       "      <td>1781</td>\n",
       "      <td>1781</td>\n",
       "      <td>1781</td>\n",
       "      <td>1781</td>\n",
       "      <td>1781</td>\n",
       "      <td>1781</td>\n",
       "      <td>1781</td>\n",
       "      <td>1781</td>\n",
       "      <td>1781</td>\n",
       "      <td>1781</td>\n",
       "      <td>1781</td>\n",
       "      <td>1781</td>\n",
       "    </tr>\n",
       "    <tr>\n",
       "      <th>Unallocated</th>\n",
       "      <td>0</td>\n",
       "      <td>0</td>\n",
       "      <td>0</td>\n",
       "      <td>0</td>\n",
       "      <td>0</td>\n",
       "      <td>0</td>\n",
       "      <td>0</td>\n",
       "      <td>0</td>\n",
       "      <td>0</td>\n",
       "      <td>0</td>\n",
       "      <td>0</td>\n",
       "      <td>0</td>\n",
       "    </tr>\n",
       "    <tr>\n",
       "      <th>...</th>\n",
       "      <th>...</th>\n",
       "      <td>...</td>\n",
       "      <td>...</td>\n",
       "      <td>...</td>\n",
       "      <td>...</td>\n",
       "      <td>...</td>\n",
       "      <td>...</td>\n",
       "      <td>...</td>\n",
       "      <td>...</td>\n",
       "      <td>...</td>\n",
       "      <td>...</td>\n",
       "      <td>...</td>\n",
       "      <td>...</td>\n",
       "    </tr>\n",
       "    <tr>\n",
       "      <th rowspan=\"2\" valign=\"top\">Wyre Forest</th>\n",
       "      <th>Unallocated</th>\n",
       "      <td>0</td>\n",
       "      <td>0</td>\n",
       "      <td>0</td>\n",
       "      <td>0</td>\n",
       "      <td>0</td>\n",
       "      <td>0</td>\n",
       "      <td>0</td>\n",
       "      <td>0</td>\n",
       "      <td>0</td>\n",
       "      <td>0</td>\n",
       "      <td>0</td>\n",
       "      <td>0</td>\n",
       "    </tr>\n",
       "    <tr>\n",
       "      <th>Urban</th>\n",
       "      <td>550</td>\n",
       "      <td>550</td>\n",
       "      <td>550</td>\n",
       "      <td>550</td>\n",
       "      <td>550</td>\n",
       "      <td>550</td>\n",
       "      <td>550</td>\n",
       "      <td>550</td>\n",
       "      <td>550</td>\n",
       "      <td>550</td>\n",
       "      <td>550</td>\n",
       "      <td>550</td>\n",
       "    </tr>\n",
       "    <tr>\n",
       "      <th rowspan=\"3\" valign=\"top\">York</th>\n",
       "      <th>Rural</th>\n",
       "      <td>706</td>\n",
       "      <td>706</td>\n",
       "      <td>706</td>\n",
       "      <td>706</td>\n",
       "      <td>706</td>\n",
       "      <td>706</td>\n",
       "      <td>706</td>\n",
       "      <td>706</td>\n",
       "      <td>706</td>\n",
       "      <td>706</td>\n",
       "      <td>706</td>\n",
       "      <td>706</td>\n",
       "    </tr>\n",
       "    <tr>\n",
       "      <th>Unallocated</th>\n",
       "      <td>0</td>\n",
       "      <td>0</td>\n",
       "      <td>0</td>\n",
       "      <td>0</td>\n",
       "      <td>0</td>\n",
       "      <td>0</td>\n",
       "      <td>0</td>\n",
       "      <td>0</td>\n",
       "      <td>0</td>\n",
       "      <td>0</td>\n",
       "      <td>0</td>\n",
       "      <td>0</td>\n",
       "    </tr>\n",
       "    <tr>\n",
       "      <th>Urban</th>\n",
       "      <td>1191</td>\n",
       "      <td>1191</td>\n",
       "      <td>1191</td>\n",
       "      <td>1191</td>\n",
       "      <td>1191</td>\n",
       "      <td>1191</td>\n",
       "      <td>1191</td>\n",
       "      <td>1191</td>\n",
       "      <td>1191</td>\n",
       "      <td>1191</td>\n",
       "      <td>1191</td>\n",
       "      <td>1191</td>\n",
       "    </tr>\n",
       "  </tbody>\n",
       "</table>\n",
       "<p>1266 rows × 12 columns</p>\n",
       "</div>"
      ],
      "text/plain": [
       "                                   Index  Accident_Severity  Accident Date  \\\n",
       "District Area Urban_or_Rural_Area                                            \n",
       "Aberdeen City Rural                  207                207            207   \n",
       "              Unallocated              0                  0              0   \n",
       "              Urban                 1116               1116           1116   \n",
       "Aberdeenshire Rural                 1781               1781           1781   \n",
       "              Unallocated              0                  0              0   \n",
       "...                                  ...                ...            ...   \n",
       "Wyre Forest   Unallocated              0                  0              0   \n",
       "              Urban                  550                550            550   \n",
       "York          Rural                  706                706            706   \n",
       "              Unallocated              0                  0              0   \n",
       "              Urban                 1191               1191           1191   \n",
       "\n",
       "                                   Latitude  Light_Conditions  Longitude  \\\n",
       "District Area Urban_or_Rural_Area                                          \n",
       "Aberdeen City Rural                     207               207        207   \n",
       "              Unallocated                 0                 0          0   \n",
       "              Urban                    1116              1116       1116   \n",
       "Aberdeenshire Rural                    1781              1781       1781   \n",
       "              Unallocated                 0                 0          0   \n",
       "...                                     ...               ...        ...   \n",
       "Wyre Forest   Unallocated                 0                 0          0   \n",
       "              Urban                     550               550        550   \n",
       "York          Rural                     706               706        706   \n",
       "              Unallocated                 0                 0          0   \n",
       "              Urban                    1191              1191       1191   \n",
       "\n",
       "                                   Number_of_Casualties  Number_of_Vehicles  \\\n",
       "District Area Urban_or_Rural_Area                                             \n",
       "Aberdeen City Rural                                 207                 207   \n",
       "              Unallocated                             0                   0   \n",
       "              Urban                                1116                1116   \n",
       "Aberdeenshire Rural                                1781                1781   \n",
       "              Unallocated                             0                   0   \n",
       "...                                                 ...                 ...   \n",
       "Wyre Forest   Unallocated                             0                   0   \n",
       "              Urban                                 550                 550   \n",
       "York          Rural                                 706                 706   \n",
       "              Unallocated                             0                   0   \n",
       "              Urban                                1191                1191   \n",
       "\n",
       "                                   Road_Surface_Conditions  Road_Type  \\\n",
       "District Area Urban_or_Rural_Area                                       \n",
       "Aberdeen City Rural                                    207        207   \n",
       "              Unallocated                                0          0   \n",
       "              Urban                                   1116       1116   \n",
       "Aberdeenshire Rural                                   1781       1781   \n",
       "              Unallocated                                0          0   \n",
       "...                                                    ...        ...   \n",
       "Wyre Forest   Unallocated                                0          0   \n",
       "              Urban                                    550        550   \n",
       "York          Rural                                    706        706   \n",
       "              Unallocated                                0          0   \n",
       "              Urban                                   1191       1191   \n",
       "\n",
       "                                   Weather_Conditions  Vehicle_Type  \n",
       "District Area Urban_or_Rural_Area                                    \n",
       "Aberdeen City Rural                               207           207  \n",
       "              Unallocated                           0             0  \n",
       "              Urban                              1116          1116  \n",
       "Aberdeenshire Rural                              1781          1781  \n",
       "              Unallocated                           0             0  \n",
       "...                                               ...           ...  \n",
       "Wyre Forest   Unallocated                           0             0  \n",
       "              Urban                               550           550  \n",
       "York          Rural                               706           706  \n",
       "              Unallocated                           0             0  \n",
       "              Urban                              1191          1191  \n",
       "\n",
       "[1266 rows x 12 columns]"
      ]
     },
     "execution_count": 25,
     "metadata": {},
     "output_type": "execute_result"
    }
   ],
   "source": [
    "accident.groupby(['District Area','Urban_or_Rural_Area']).count()"
   ]
  },
  {
   "cell_type": "markdown",
   "id": "39573708-8a5f-4476-b22d-115c0740429e",
   "metadata": {},
   "source": [
    "<h4>INSIGHT: Most Accidents that happened in rural area is in Aberdeenshire</h4>"
   ]
  },
  {
   "cell_type": "markdown",
   "id": "14d1a8fe-03dc-437a-a1eb-21af74aca7a2",
   "metadata": {},
   "source": [
    "<h2>16.Is the number of vehicles that has Impacts of the occurence of accidents in rural and urban areas.</h2>"
   ]
  },
  {
   "cell_type": "code",
   "execution_count": 30,
   "id": "9d25d965-93cb-41a4-a935-ffacac240224",
   "metadata": {},
   "outputs": [
    {
     "name": "stdout",
     "output_type": "stream",
     "text": [
      "9.09607802972544e-198\n"
     ]
    }
   ],
   "source": [
    "from scipy.stats import f_oneway\n",
    "f_stats, p_value = f_oneway(accident[accident['Urban_or_Rural_Area'] == 'Urban'] ['Number_of_Vehicles'],\n",
    "                            accident[accident['Urban_or_Rural_Area'] == 'Rural'] ['Number_of_Vehicles'])\n",
    "print(p_value)"
   ]
  },
  {
   "cell_type": "markdown",
   "id": "a8e2ea8b-2558-4f74-ab57-ef2ef32dbba1",
   "metadata": {},
   "source": [
    "<h4>INSIGHT: The number of vehicles in urban or rural areas has an impacts to the occurrence of accidents.</h4>"
   ]
  },
  {
   "cell_type": "markdown",
   "id": "d1833187-287e-475e-b58d-8e6827ae0093",
   "metadata": {},
   "source": [
    "<h2>17.What is the average number of vehicles per accident?</h2>"
   ]
  },
  {
   "cell_type": "code",
   "execution_count": 31,
   "id": "eff02606-7714-4dac-a901-ca509f77d46b",
   "metadata": {},
   "outputs": [
    {
     "data": {
      "text/plain": [
       "1.8312554205597575"
      ]
     },
     "execution_count": 31,
     "metadata": {},
     "output_type": "execute_result"
    }
   ],
   "source": [
    "accident['Number_of_Vehicles'].mean()"
   ]
  },
  {
   "cell_type": "markdown",
   "id": "f791f5a4-1e79-4541-9a5b-4e4afe8493b3",
   "metadata": {},
   "source": [
    "<h4>INSIGHT: The average number of vehicles per accident is 1.83.</h4>"
   ]
  },
  {
   "cell_type": "markdown",
   "id": "e0e59d1d-094c-4b0b-8ee4-852b88e1ee66",
   "metadata": {},
   "source": [
    "<h2>18.Which road type area reports the least accidents?</h2>"
   ]
  },
  {
   "cell_type": "code",
   "execution_count": 33,
   "id": "8ceddd63-a2bd-4aa1-bd1d-5370e01c1d54",
   "metadata": {},
   "outputs": [
    {
     "data": {
      "text/plain": [
       "Road_Type\n",
       "Single carriageway    496663\n",
       "Dual carriageway       99424\n",
       "Roundabout             43992\n",
       "One way street         13559\n",
       "Slip road               7041\n",
       "Name: count, dtype: int64"
      ]
     },
     "execution_count": 33,
     "metadata": {},
     "output_type": "execute_result"
    }
   ],
   "source": [
    "accident['Road_Type'].value_counts()"
   ]
  },
  {
   "cell_type": "markdown",
   "id": "130d1ac8-179f-44e7-8638-1daff0f8ed56",
   "metadata": {},
   "source": [
    "<h4>INSIGHT: Slip road has recorded the least number of accidents.</h4>"
   ]
  },
  {
   "cell_type": "markdown",
   "id": "f03e5f27-0b39-4ae9-8909-cfdb5f30ce2d",
   "metadata": {},
   "source": [
    "<h2>19.Where is the most severe fatal accidents occur geographically?</h2>"
   ]
  },
  {
   "cell_type": "code",
   "execution_count": 34,
   "id": "6dd4015b-52ea-4a8f-8cdf-bb625987d7a8",
   "metadata": {},
   "outputs": [
    {
     "data": {
      "text/html": [
       "<div>\n",
       "<style scoped>\n",
       "    .dataframe tbody tr th:only-of-type {\n",
       "        vertical-align: middle;\n",
       "    }\n",
       "\n",
       "    .dataframe tbody tr th {\n",
       "        vertical-align: top;\n",
       "    }\n",
       "\n",
       "    .dataframe thead th {\n",
       "        text-align: right;\n",
       "    }\n",
       "</style>\n",
       "<table border=\"1\" class=\"dataframe\">\n",
       "  <thead>\n",
       "    <tr style=\"text-align: right;\">\n",
       "      <th></th>\n",
       "      <th>Longitude</th>\n",
       "      <th>Latitude</th>\n",
       "    </tr>\n",
       "  </thead>\n",
       "  <tbody>\n",
       "    <tr>\n",
       "      <th>count</th>\n",
       "      <td>8661.000000</td>\n",
       "      <td>8661.000000</td>\n",
       "    </tr>\n",
       "    <tr>\n",
       "      <th>mean</th>\n",
       "      <td>-1.546123</td>\n",
       "      <td>52.696000</td>\n",
       "    </tr>\n",
       "    <tr>\n",
       "      <th>std</th>\n",
       "      <td>1.450183</td>\n",
       "      <td>1.538523</td>\n",
       "    </tr>\n",
       "    <tr>\n",
       "      <th>min</th>\n",
       "      <td>-6.430902</td>\n",
       "      <td>50.083471</td>\n",
       "    </tr>\n",
       "    <tr>\n",
       "      <th>25%</th>\n",
       "      <td>-2.522856</td>\n",
       "      <td>51.517812</td>\n",
       "    </tr>\n",
       "    <tr>\n",
       "      <th>50%</th>\n",
       "      <td>-1.499085</td>\n",
       "      <td>52.436049</td>\n",
       "    </tr>\n",
       "    <tr>\n",
       "      <th>75%</th>\n",
       "      <td>-0.362033</td>\n",
       "      <td>53.501361</td>\n",
       "    </tr>\n",
       "    <tr>\n",
       "      <th>max</th>\n",
       "      <td>1.751490</td>\n",
       "      <td>60.321208</td>\n",
       "    </tr>\n",
       "  </tbody>\n",
       "</table>\n",
       "</div>"
      ],
      "text/plain": [
       "         Longitude     Latitude\n",
       "count  8661.000000  8661.000000\n",
       "mean     -1.546123    52.696000\n",
       "std       1.450183     1.538523\n",
       "min      -6.430902    50.083471\n",
       "25%      -2.522856    51.517812\n",
       "50%      -1.499085    52.436049\n",
       "75%      -0.362033    53.501361\n",
       "max       1.751490    60.321208"
      ]
     },
     "execution_count": 34,
     "metadata": {},
     "output_type": "execute_result"
    }
   ],
   "source": [
    "fatal = accident[accident['Accident_Severity'] == 'Fatal']\n",
    "fatal[['Longitude','Latitude']].describe()"
   ]
  },
  {
   "cell_type": "markdown",
   "id": "c88186b5-e3f1-4c8f-8a1f-4c84b1dbb8ad",
   "metadata": {},
   "source": [
    "<h4>INSIGHT: Fatal accidents are concentrated around longitude of -1.55 and latitude of 52.70.</h4>"
   ]
  },
  {
   "cell_type": "markdown",
   "id": "b9dcc9be-8dba-41a4-a26b-0d04dc4b94ef",
   "metadata": {},
   "source": [
    "<h2>20.Which district area covers the highest accident-prone longitude/latitude range?</h2>"
   ]
  },
  {
   "cell_type": "code",
   "execution_count": 39,
   "id": "105d4aee-13d7-4e20-b6ea-be58006312d0",
   "metadata": {},
   "outputs": [
    {
     "data": {
      "text/html": [
       "<div>\n",
       "<style scoped>\n",
       "    .dataframe tbody tr th:only-of-type {\n",
       "        vertical-align: middle;\n",
       "    }\n",
       "\n",
       "    .dataframe tbody tr th {\n",
       "        vertical-align: top;\n",
       "    }\n",
       "\n",
       "    .dataframe thead th {\n",
       "        text-align: right;\n",
       "    }\n",
       "</style>\n",
       "<table border=\"1\" class=\"dataframe\">\n",
       "  <thead>\n",
       "    <tr style=\"text-align: right;\">\n",
       "      <th></th>\n",
       "      <th>Longitude</th>\n",
       "      <th>Latitude</th>\n",
       "    </tr>\n",
       "    <tr>\n",
       "      <th>District Area</th>\n",
       "      <th></th>\n",
       "      <th></th>\n",
       "    </tr>\n",
       "  </thead>\n",
       "  <tbody>\n",
       "    <tr>\n",
       "      <th>Aberdeen City</th>\n",
       "      <td>-2.129763</td>\n",
       "      <td>57.153023</td>\n",
       "    </tr>\n",
       "    <tr>\n",
       "      <th>Aberdeenshire</th>\n",
       "      <td>-2.328926</td>\n",
       "      <td>57.301687</td>\n",
       "    </tr>\n",
       "    <tr>\n",
       "      <th>Adur</th>\n",
       "      <td>-0.285832</td>\n",
       "      <td>50.836921</td>\n",
       "    </tr>\n",
       "    <tr>\n",
       "      <th>Allerdale</th>\n",
       "      <td>-3.364416</td>\n",
       "      <td>54.697110</td>\n",
       "    </tr>\n",
       "    <tr>\n",
       "      <th>Alnwick</th>\n",
       "      <td>-1.741380</td>\n",
       "      <td>55.369824</td>\n",
       "    </tr>\n",
       "  </tbody>\n",
       "</table>\n",
       "</div>"
      ],
      "text/plain": [
       "               Longitude   Latitude\n",
       "District Area                      \n",
       "Aberdeen City  -2.129763  57.153023\n",
       "Aberdeenshire  -2.328926  57.301687\n",
       "Adur           -0.285832  50.836921\n",
       "Allerdale      -3.364416  54.697110\n",
       "Alnwick        -1.741380  55.369824"
      ]
     },
     "execution_count": 39,
     "metadata": {},
     "output_type": "execute_result"
    }
   ],
   "source": [
    "accident.groupby('District Area')[['Longitude','Latitude']].mean().head()"
   ]
  },
  {
   "cell_type": "markdown",
   "id": "d49ec317-582e-43ea-87c3-6642a5951d84",
   "metadata": {},
   "source": [
    "<h4>INSIGHT: District Aberdeen city covers the main accident-prone geographic center.</h4>"
   ]
  },
  {
   "cell_type": "markdown",
   "id": "dee79833-a12d-4d8d-b02d-ed4add17c51b",
   "metadata": {},
   "source": [
    "<h2>21.Accidents by month.</h2>"
   ]
  },
  {
   "cell_type": "code",
   "execution_count": 41,
   "id": "db4ef9ac-93a9-41b8-a3c3-364cb0e414b0",
   "metadata": {},
   "outputs": [
    {
     "data": {
      "image/png": "[encoded data removed]",
      "text/plain": [
       "<Figure size 640x480 with 1 Axes>"
      ]
     },
     "metadata": {},
     "output_type": "display_data"
    }
   ],
   "source": [
    "import matplotlib.pyplot as plt\n",
    "accident['Accident Date'] = pd.to_datetime(accident['Accident Date'], errors='coerce')\n",
    "accident['Month'] = accident['Accident Date'].dt.month_name()\n",
    "accident['Month'].value_counts().plot(kind='bar', color= 'green')\n",
    "plt.title(\"Number of Accidents per Month\")\n",
    "plt.xlabel(\"Month\")\n",
    "plt.ylabel(\"Accidents\")\n",
    "plt.show()"
   ]
  },
  {
   "cell_type": "markdown",
   "id": "634fd04b-6c07-4f85-95f9-0c351a68cbe7",
   "metadata": {},
   "source": [
    "<h2>22.Urban and rural accidents</h2>"
   ]
  },
  {
   "cell_type": "code",
   "execution_count": 45,
   "id": "676f65fa-2337-4bfc-a238-9ec76e09f37e",
   "metadata": {},
   "outputs": [
    {
     "data": {
      "image/png": "[encoded data removed]",
      "text/plain": [
       "<Figure size 640x480 with 1 Axes>"
      ]
     },
     "metadata": {},
     "output_type": "display_data"
    }
   ],
   "source": [
    "accident['Urban_or_Rural_Area'].value_counts().plot(kind='pie', autopct='%1.1f%%', colors=['orange','lightblue'])\n",
    "plt.title(\"Urban vs Rural Accidents\")\n",
    "plt.show()"
   ]
  },
  {
   "cell_type": "markdown",
   "id": "5d4451f6-f041-494f-a716-69c6098af302",
   "metadata": {},
   "source": [
    "<h2>23.Accidents per road type</h2>"
   ]
  },
  {
   "cell_type": "code",
   "execution_count": 57,
   "id": "2f2a3dfe-66d6-4410-b7a7-c4cb3400c4c6",
   "metadata": {},
   "outputs": [
    {
     "data": {
      "image/png": "[encoded data removed]",
      "text/plain": [
       "<Figure size 640x480 with 1 Axes>"
      ]
     },
     "metadata": {},
     "output_type": "display_data"
    }
   ],
   "source": [
    "accident['Road_Type'].value_counts().sort_index().plot(kind='bar', color = 'maroon')\n",
    "plt.title(\"Accidents by Road Type\")\n",
    "plt.xlabel(\"Road Type\")\n",
    "plt.ylabel(\"Accidents\")\n",
    "plt.show()"
   ]
  },
  {
   "cell_type": "markdown",
   "id": "71a36e44-a505-40f6-af61-4b60a9aa31d6",
   "metadata": {},
   "source": [
    "<h2>24.Number Vehicles and number of casualties</h2>"
   ]
  },
  {
   "cell_type": "code",
   "execution_count": 59,
   "id": "054c4db6-c6de-4203-b36d-693f475011c3",
   "metadata": {},
   "outputs": [
    {
     "data": {
      "image/png": "[encoded data removed]",
      "text/plain": [
       "<Figure size 640x480 with 1 Axes>"
      ]
     },
     "metadata": {},
     "output_type": "display_data"
    }
   ],
   "source": [
    "plt.scatter(accident['Number_of_Vehicles'], accident['Number_of_Casualties'], alpha=0.3)\n",
    "plt.title(\"Vehicles Involved and Casualties\")\n",
    "plt.xlabel(\"Number of Vehicles\")\n",
    "plt.ylabel(\"Number of Casualties\")\n",
    "plt.show()"
   ]
  },
  {
   "cell_type": "markdown",
   "id": "d1a2fd22-ad32-4974-b45a-5b880d9a066d",
   "metadata": {},
   "source": [
    "<h2>25.accidents by road surface conditions</h2>"
   ]
  },
  {
   "cell_type": "code",
   "execution_count": 63,
   "id": "42beb053-6408-424d-9722-7d6679ed8854",
   "metadata": {},
   "outputs": [
    {
     "data": {
      "image/png": "[encoded data removed]",
      "text/plain": [
       "<Figure size 640x480 with 1 Axes>"
      ]
     },
     "metadata": {},
     "output_type": "display_data"
    }
   ],
   "source": [
    "accident['Road_Surface_Conditions'].value_counts().plot(kind='bar', color='red')\n",
    "plt.title(\"Accidents by Road Surface Condition\")\n",
    "plt.xlabel(\"Surface Condition\")\n",
    "plt.ylabel(\"Accidents\")\n",
    "plt.show()"
   ]
  },
  {
   "cell_type": "code",
   "execution_count": null,
   "id": "32b8771b-63b1-44a2-b310-342e00fb5a93",
   "metadata": {},
   "outputs": [],
   "source": []
  }
 ],
 "metadata": {
  "kernelspec": {
   "display_name": "Python 3 (ipykernel)",
   "language": "python",
   "name": "python3"
  },
  "language_info": {
   "codemirror_mode": {
    "name": "ipython",
    "version": 3
   },
   "file_extension": ".py",
   "mimetype": "text/x-python",
   "name": "python",
   "nbconvert_exporter": "python",
   "pygments_lexer": "ipython3",
   "version": "3.11.5"
  }
 },
 "nbformat": 4,
 "nbformat_minor": 5
}
